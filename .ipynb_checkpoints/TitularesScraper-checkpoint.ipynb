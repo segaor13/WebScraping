{
 "cells": [
  {
   "cell_type": "markdown",
   "metadata": {},
   "source": [
    "# Web Scraping\n",
    "Según el procedimiento en https://www.datacamp.com/community/tutorials/web-scraping-using-python"
   ]
  },
  {
   "cell_type": "code",
   "execution_count": 1,
   "metadata": {},
   "outputs": [],
   "source": [
    "#Importes necesarios\n",
    "import pandas as pd\n",
    "import numpy as np\n",
    "import matplotlib.pyplot as plt\n",
    "import seaborn as sns\n",
    "%matplotlib inline\n",
    "from urllib.request import urlopen\n",
    "from bs4 import BeautifulSoup\n",
    "import datetime"
   ]
  },
  {
   "cell_type": "code",
   "execution_count": 62,
   "metadata": {},
   "outputs": [],
   "source": [
    "#Establecer función para el cambio de fechas\n",
    "def fecha_variable(start_date):\n",
    "    fecha = start_date.strftime(\"%Y-%m-%d\")\n",
    "    url = \"https://www.elsiglodetorreon.com.mx/archivo/?d=\" + fecha\n",
    "    html = urlopen(url)\n",
    "    soup = BeautifulSoup(html, 'lxml')\n",
    "    for ultag in soup.find_all('ul', {'class': 'list-group'}):\n",
    "         for litag in ultag.find_all('a'):\n",
    "                    f = open('%s.csv' % fecha, \"a\", encoding='utf-8')\n",
    "                    f.write(litag.text + \"\\n\")\n",
    "                    f.close()"
   ]
  },
  {
   "cell_type": "code",
   "execution_count": 63,
   "metadata": {},
   "outputs": [],
   "source": [
    "#Fecha variable\n",
    "\n",
    "start_date = datetime.date(2020, 2, 1)\n",
    "end_date = datetime.date(2020, 2, 28)\n",
    "delta = datetime.timedelta(days=1)\n",
    "\n",
    "while start_date <= end_date:\n",
    "    fecha_variable(start_date)\n",
    "    start_date += delta"
   ]
  },
  {
   "cell_type": "markdown",
   "metadata": {},
   "source": [
    "### Pendientes: \n",
    "- Cuando el titular tiene una coma, produce errores en el CSV  \n",
    "- Crear dataframe para su uso con Matplotlib  \n",
    "- Añadir lista de HTML para ingreso a cada una de las notas  "
   ]
  }
 ],
 "metadata": {
  "kernelspec": {
   "display_name": "Python 3",
   "language": "python",
   "name": "python3"
  },
  "language_info": {
   "codemirror_mode": {
    "name": "ipython",
    "version": 3
   },
   "file_extension": ".py",
   "mimetype": "text/x-python",
   "name": "python",
   "nbconvert_exporter": "python",
   "pygments_lexer": "ipython3",
   "version": "3.8.5"
  }
 },
 "nbformat": 4,
 "nbformat_minor": 4
}
