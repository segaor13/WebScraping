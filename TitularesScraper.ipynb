{
 "cells": [
  {
   "cell_type": "markdown",
   "metadata": {},
   "source": [
    "# Web Scraping: Titulares\n",
    "Según el procedimiento en https://www.datacamp.com/community/tutorials/web-scraping-using-python"
   ]
  },
  {
   "cell_type": "code",
   "execution_count": 1,
   "metadata": {},
   "outputs": [],
   "source": [
    "#Importes necesarios\n",
    "import pymysql as sql\n",
    "import pymysql.cursors\n",
    "import pandas as pd\n",
    "#import numpy as np\n",
    "#import matplotlib.pyplot as plt\n",
    "#import seaborn as sns\n",
    "#%matplotlib inline\n",
    "from urllib.request import urlopen\n",
    "from bs4 import BeautifulSoup\n",
    "import datetime"
   ]
  },
  {
   "cell_type": "code",
   "execution_count": 2,
   "metadata": {},
   "outputs": [],
   "source": [
    "#Conectar a la base de datos en MySQL local\n",
    "conn = sql.connect(\n",
    "    host=\"localhost\",\n",
    "    port=3306,\n",
    "    user=\"root\",\n",
    "    passwd=\"\",\n",
    "    db=\"siglonuevo\")\n",
    "cursor = conn.cursor()\n",
    "cursorclass = pymysql.cursors.DictCursor"
   ]
  },
  {
   "cell_type": "code",
   "execution_count": 10,
   "metadata": {},
   "outputs": [],
   "source": [
    "#Establecer función para el cambio de fechas\n",
    "def fecha_variable(start_date):\n",
    "    fecha = start_date.strftime(\"%Y-%m-%d\")\n",
    "    url = \"https://www.elsiglodetorreon.com.mx/archivo/?d=\" + fecha\n",
    "    html = urlopen(url)\n",
    "    soup = BeautifulSoup(html, 'lxml')\n",
    "    #for nota in soup.findAll('div', {'class' : 'col-xs-9'}):\n",
    "        #titular = nota.find('a')\n",
    "        #.get_text().strip()\n",
    "        #href = titular['href']\n",
    "        #print(href, titular.get_text())\n",
    "\n",
    "    with conn.cursor() as cursor:\n",
    "        for nota in soup.findAll('div', {'class' : 'col-xs-9'}):\n",
    "            titular = nota.find('a')\n",
    "            titular_texto = titular.get_text().strip()\n",
    "            enlace = titular['href']\n",
    "            enlace_completo = \"https://www.elsiglodetorreon.com.mx\" + enlace\n",
    "            #.get_text().strip()\n",
    "            orden = \"INSERT INTO `titulares` (`titulares`, `fecha`, `enlace` ) VALUES (%s, %s, %s)\"\n",
    "            cursor.execute(orden, (titular_texto, fecha, enlace_completo))\n",
    "    conn.commit()"
   ]
  },
  {
   "cell_type": "code",
   "execution_count": 11,
   "metadata": {},
   "outputs": [],
   "source": [
    "#Variabilización de las fechas y ejecución de la función\n",
    "\n",
    "start_date = datetime.date(2021, 1, 1)\n",
    "end_date = datetime.date(2021, 4, 16)\n",
    "delta = datetime.timedelta(days=1)\n",
    "\n",
    "while start_date <= end_date:\n",
    "    fecha_variable(start_date)\n",
    "    start_date += delta"
   ]
  }
 ],
 "metadata": {
  "kernelspec": {
   "display_name": "Python 3",
   "language": "python",
   "name": "python3"
  },
  "language_info": {
   "codemirror_mode": {
    "name": "ipython",
    "version": 3
   },
   "file_extension": ".py",
   "mimetype": "text/x-python",
   "name": "python",
   "nbconvert_exporter": "python",
   "pygments_lexer": "ipython3",
   "version": "3.8.5"
  }
 },
 "nbformat": 4,
 "nbformat_minor": 4
}
