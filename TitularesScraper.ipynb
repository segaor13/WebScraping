{
 "cells": [
  {
   "cell_type": "markdown",
   "metadata": {},
   "source": [
    "# Web Scraping\n",
    "Según el procedimiento en https://www.datacamp.com/community/tutorials/web-scraping-using-python"
   ]
  },
  {
   "cell_type": "code",
   "execution_count": 1,
   "metadata": {},
   "outputs": [],
   "source": [
    "#Importes necesarios\n",
    "import pandas as pd\n",
    "import numpy as np\n",
    "import matplotlib.pyplot as plt\n",
    "import seaborn as sns\n",
    "%matplotlib inline\n",
    "from urllib.request import urlopen\n",
    "from bs4 import BeautifulSoup"
   ]
  },
  {
   "cell_type": "code",
   "execution_count": 2,
   "metadata": {},
   "outputs": [],
   "source": [
    "#Establecer URL para scraping\n",
    "url = \"https://www.elsiglodetorreon.com.mx/archivo/?ultimas\"\n",
    "html = urlopen(url)"
   ]
  },
  {
   "cell_type": "code",
   "execution_count": 3,
   "metadata": {},
   "outputs": [
    {
     "data": {
      "text/plain": [
       "bs4.BeautifulSoup"
      ]
     },
     "execution_count": 3,
     "metadata": {},
     "output_type": "execute_result"
    }
   ],
   "source": [
    "#Establece variable para usar Beautiful Soup\n",
    "soup = BeautifulSoup(html, 'lxml')"
   ]
  },
  {
   "cell_type": "code",
   "execution_count": 10,
   "metadata": {},
   "outputs": [],
   "source": [
    "# (Prueba) Imprime título de la página\n",
    "title = soup.title\n",
    "##print(title)"
   ]
  },
  {
   "cell_type": "code",
   "execution_count": 11,
   "metadata": {},
   "outputs": [],
   "source": [
    "# (Prueba) Imprime el texto de la página completa\n",
    "text = soup.get_text()\n",
    "##print(soup.text)"
   ]
  },
  {
   "cell_type": "code",
   "execution_count": 6,
   "metadata": {},
   "outputs": [],
   "source": [
    "#Establece la fecha del día de hoy en una variable\n",
    "from datetime import date\n",
    "\n",
    "today = date.today()\n",
    "hoy = today.strftime(\"%Y-%m-%d\")"
   ]
  },
  {
   "cell_type": "code",
   "execution_count": 7,
   "metadata": {},
   "outputs": [],
   "source": [
    "#Encuentra cada titular ( <li> en la <ul> con clase \"list-group\"), extrae el texto, \n",
    "#lo escribe en un archivo con nombre de fecha de hoy, y añade una segunda columna con la fecha. \n",
    "for ultag in soup.find_all('ul', {'class': 'list-group'}):\n",
    "...     for litag in ultag.find_all('a'):\n",
    "...             f = open('%s.csv' % hoy, \"a\", encoding='utf-8')\n",
    "...             f.write(\"'\")\n",
    "...             f.write(litag.text)\n",
    "...             f.write(\"', \")\n",
    "...             f.write(hoy)\n",
    "...             f.write(\"\\n\")\n",
    "...             f.close()\n"
   ]
  },
  {
   "cell_type": "markdown",
   "metadata": {},
   "source": [
    "### Pendientes: \n",
    "- Cuando el titular tiene una coma, produce errores en el CSV  \n",
    "- Crear dataframe para su uso con Matplotlib  \n",
    "- Añadir lista de HTML para ingreso a cada una de las notas  \n",
    "- Como añadir varias páginas  "
   ]
  },
  {
   "cell_type": "code",
   "execution_count": null,
   "metadata": {},
   "outputs": [],
   "source": []
  }
 ],
 "metadata": {
  "kernelspec": {
   "display_name": "Python 3",
   "language": "python",
   "name": "python3"
  },
  "language_info": {
   "codemirror_mode": {
    "name": "ipython",
    "version": 3
   },
   "file_extension": ".py",
   "mimetype": "text/x-python",
   "name": "python",
   "nbconvert_exporter": "python",
   "pygments_lexer": "ipython3",
   "version": "3.8.5"
  }
 },
 "nbformat": 4,
 "nbformat_minor": 4
}
